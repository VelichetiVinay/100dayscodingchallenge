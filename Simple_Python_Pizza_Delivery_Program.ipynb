{
  "nbformat": 4,
  "nbformat_minor": 0,
  "metadata": {
    "colab": {
      "provenance": []
    },
    "kernelspec": {
      "name": "python3",
      "display_name": "Python 3"
    },
    "language_info": {
      "name": "python"
    }
  },
  "cells": [
    {
      "cell_type": "markdown",
      "source": [
        "PYTHON PIZZA DELIVERY PROGRAM"
      ],
      "metadata": {
        "id": "H3E-fXsEHjTS"
      }
    },
    {
      "cell_type": "code",
      "execution_count": 6,
      "metadata": {
        "colab": {
          "base_uri": "https://localhost:8080/"
        },
        "id": "y6xWbHG6FuYI",
        "outputId": "1f41ba1a-bafa-478b-e908-f1e9c67dde07"
      },
      "outputs": [
        {
          "output_type": "stream",
          "name": "stdout",
          "text": [
            "Welcome to Python  Pizza Delivery\n",
            "What size of pizza do you want ? S,  M & L\n",
            "S\n",
            "Do you want extra pepperoni ? Y or N\n",
            "Y\n",
            "Do you want extra cheese ? Y or N\n",
            "N\n",
            "Your final bill is : 17\n"
          ]
        }
      ],
      "source": [
        "print(\"Welcome to Python Pizza Delivery\")\n",
        "print(\"What size of pizza do you want ? S,  M & L\")\n",
        "size=input()\n",
        "print(\"Do you want extra pepperoni ? Y or N\")\n",
        "pepperoni=input()\n",
        "print(\"Do you want extra cheese ? Y or N\")\n",
        "cheese=input()\n",
        "\n",
        "bill=0\n",
        "if size==\"S\":\n",
        "  bill+=15\n",
        "elif size==\"M\":\n",
        "   bill+=20\n",
        "elif size==\"L\":\n",
        "   bill+=25\n",
        "else:\n",
        "  print(\"Wrong Input please try again ...! \")\n",
        "\n",
        "if pepperoni==\"Y\":\n",
        "  if size==\"S\":\n",
        "    bill+=2\n",
        "  else:\n",
        "    bill+=3\n",
        "\n",
        "    if cheese==\"Y\":\n",
        "      bill+=1\n",
        "\n",
        "print(f\"Your final bill is : $ {bill}\")"
      ]
    }
  ]
}